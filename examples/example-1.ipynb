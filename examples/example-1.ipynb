{
 "cells": [
  {
   "cell_type": "code",
   "execution_count": 1,
   "id": "eec8c55d-48b9-483a-97ac-199d93f766e2",
   "metadata": {},
   "outputs": [],
   "source": [
    "from pyspark.sql import SparkSession\n",
    "\n",
    "from pyspark_encoders import TargetEncoder\n",
    "spark = SparkSession.builder.appName(\"mySparkApp\").getOrCreate()"
   ]
  },
  {
   "cell_type": "code",
   "execution_count": 2,
   "id": "e19cb53d-2cfd-4846-aab5-bef72aafcd2d",
   "metadata": {},
   "outputs": [],
   "source": []
  },
  {
   "cell_type": "code",
   "execution_count": 3,
   "id": "863d44c5-0685-4f9c-876f-ce8f04a0d749",
   "metadata": {},
   "outputs": [
    {
     "name": "stdout",
     "output_type": "stream",
     "text": [
      "+---------+------------+\n",
      "|catColumn|targetColumn|\n",
      "+---------+------------+\n",
      "|        A|           1|\n",
      "|        A|           2|\n",
      "|        B|           6|\n",
      "|        B|           4|\n",
      "|        A|           3|\n",
      "|        B|           5|\n",
      "+---------+------------+\n",
      "\n",
      "+---------+------------+------------+\n",
      "|catColumn|targetColumn|encCatColumn|\n",
      "+---------+------------+------------+\n",
      "|        A|           1|         2.0|\n",
      "|        A|           2|         2.0|\n",
      "|        B|           6|         5.0|\n",
      "|        B|           4|         5.0|\n",
      "|        A|           3|         2.0|\n",
      "|        B|           5|         5.0|\n",
      "+---------+------------+------------+\n",
      "\n"
     ]
    }
   ],
   "source": [
    "values = [(\"A\", 1), (\"A\", 2), (\"B\", 6), (\"B\", 4), (\"A\", 3), (\"B\", 5)]\n",
    "\n",
    "df = spark.createDataFrame(values, [\"catColumn\", \"targetColumn\"])\n",
    "df.show()\n",
    "\n",
    "encoder = TargetEncoder(\n",
    "    inputCol=\"catColumn\",\n",
    "    outputCol=\"encCatColumn\",\n",
    "    targetCol=\"targetColumn\",\n",
    "    strategy=\"mean\"\n",
    ")\n",
    "\n",
    "encoder_model = encoder.fit(df)\n",
    "\n",
    "transf_df = encoder_model.transform(df)\n",
    "\n",
    "transf_df.show()"
   ]
  },
  {
   "cell_type": "code",
   "execution_count": null,
   "id": "5d69bf71-3cb9-4545-a8b5-bfea68d027d6",
   "metadata": {},
   "outputs": [],
   "source": []
  },
  {
   "cell_type": "code",
   "execution_count": null,
   "id": "252236fb-7ffe-4909-98e5-995a39b69950",
   "metadata": {},
   "outputs": [],
   "source": []
  },
  {
   "cell_type": "code",
   "execution_count": null,
   "id": "cb0641fa-2d78-48be-b1a3-f0f5c5f299c5",
   "metadata": {},
   "outputs": [],
   "source": []
  },
  {
   "cell_type": "code",
   "execution_count": null,
   "id": "7b998094-66d0-49c3-84dd-73650029b16f",
   "metadata": {},
   "outputs": [],
   "source": []
  },
  {
   "cell_type": "code",
   "execution_count": null,
   "id": "846e8e12-c5ba-411c-af8d-3368a1609ad3",
   "metadata": {},
   "outputs": [],
   "source": []
  },
  {
   "cell_type": "code",
   "execution_count": null,
   "id": "7b9a856f-5114-4554-9ced-970f217b9ad9",
   "metadata": {},
   "outputs": [],
   "source": []
  },
  {
   "cell_type": "code",
   "execution_count": null,
   "id": "fb7d7e46-7494-49a7-8691-83f58fa0869f",
   "metadata": {},
   "outputs": [],
   "source": []
  },
  {
   "cell_type": "code",
   "execution_count": null,
   "id": "e1bcfcb8-97b6-4ca3-bc38-757ee93801ef",
   "metadata": {},
   "outputs": [],
   "source": []
  },
  {
   "cell_type": "code",
   "execution_count": null,
   "id": "a03f8038-dddf-42e1-9343-cdadced8ce7d",
   "metadata": {},
   "outputs": [],
   "source": []
  },
  {
   "cell_type": "code",
   "execution_count": null,
   "id": "6d7fcb4f-0d4b-45ad-8102-9b4d368a0871",
   "metadata": {},
   "outputs": [],
   "source": []
  },
  {
   "cell_type": "code",
   "execution_count": null,
   "id": "3f55765e-ab74-4c74-8345-d65150bf039d",
   "metadata": {},
   "outputs": [],
   "source": []
  },
  {
   "cell_type": "code",
   "execution_count": 4,
   "id": "a3462980-d31d-41be-a42d-4c84740a4f26",
   "metadata": {},
   "outputs": [
    {
     "name": "stdout",
     "output_type": "stream",
     "text": [
      "+---------+------------+\n",
      "|catColumn|targetColumn|\n",
      "+---------+------------+\n",
      "|        A|           1|\n",
      "|        A|           2|\n",
      "|        B|           6|\n",
      "|        B|           4|\n",
      "|        A|           3|\n",
      "|        B|           5|\n",
      "+---------+------------+\n",
      "\n"
     ]
    },
    {
     "ename": "AttributeError",
     "evalue": "'int' object has no attribute 'typeConverter'",
     "output_type": "error",
     "traceback": [
      "\u001b[0;31m---------------------------------------------------------------------------\u001b[0m",
      "\u001b[0;31mAttributeError\u001b[0m                            Traceback (most recent call last)",
      "Cell \u001b[0;32mIn[4], line 8\u001b[0m\n\u001b[1;32m      5\u001b[0m df \u001b[38;5;241m=\u001b[39m spark\u001b[38;5;241m.\u001b[39mcreateDataFrame(values, [\u001b[38;5;124m\"\u001b[39m\u001b[38;5;124mcatColumn\u001b[39m\u001b[38;5;124m\"\u001b[39m, \u001b[38;5;124m\"\u001b[39m\u001b[38;5;124mtargetColumn\u001b[39m\u001b[38;5;124m\"\u001b[39m])\n\u001b[1;32m      6\u001b[0m df\u001b[38;5;241m.\u001b[39mshow()\n\u001b[0;32m----> 8\u001b[0m encoder \u001b[38;5;241m=\u001b[39m \u001b[43mCatboostEncoder\u001b[49m\u001b[43m(\u001b[49m\n\u001b[1;32m      9\u001b[0m \u001b[43m    \u001b[49m\u001b[43minputCol\u001b[49m\u001b[38;5;241;43m=\u001b[39;49m\u001b[38;5;124;43m\"\u001b[39;49m\u001b[38;5;124;43mcatColumn\u001b[39;49m\u001b[38;5;124;43m\"\u001b[39;49m\u001b[43m,\u001b[49m\n\u001b[1;32m     10\u001b[0m \u001b[43m    \u001b[49m\u001b[43moutputCol\u001b[49m\u001b[38;5;241;43m=\u001b[39;49m\u001b[38;5;124;43m\"\u001b[39;49m\u001b[38;5;124;43mencCatColumn\u001b[39;49m\u001b[38;5;124;43m\"\u001b[39;49m\u001b[43m,\u001b[49m\n\u001b[1;32m     11\u001b[0m \u001b[43m    \u001b[49m\u001b[43mtargetCol\u001b[49m\u001b[38;5;241;43m=\u001b[39;49m\u001b[38;5;124;43m\"\u001b[39;49m\u001b[38;5;124;43mtargetColumn\u001b[39;49m\u001b[38;5;124;43m\"\u001b[39;49m\u001b[43m,\u001b[49m\n\u001b[1;32m     12\u001b[0m \u001b[43m    \u001b[49m\u001b[43ma\u001b[49m\u001b[38;5;241;43m=\u001b[39;49m\u001b[38;5;241;43m1\u001b[39;49m\n\u001b[1;32m     13\u001b[0m \u001b[43m)\u001b[49m\n\u001b[1;32m     15\u001b[0m encoder_model \u001b[38;5;241m=\u001b[39m encoder\u001b[38;5;241m.\u001b[39mfit(df)\n\u001b[1;32m     17\u001b[0m transf_df \u001b[38;5;241m=\u001b[39m encoder_model\u001b[38;5;241m.\u001b[39mtransform(df)\n",
      "File \u001b[0;32m/usr/local/spark/python/pyspark/__init__.py:139\u001b[0m, in \u001b[0;36mkeyword_only.<locals>.wrapper\u001b[0;34m(self, *args, **kwargs)\u001b[0m\n\u001b[1;32m    137\u001b[0m     \u001b[38;5;28;01mraise\u001b[39;00m \u001b[38;5;167;01mTypeError\u001b[39;00m(\u001b[38;5;124m\"\u001b[39m\u001b[38;5;124mMethod \u001b[39m\u001b[38;5;132;01m%s\u001b[39;00m\u001b[38;5;124m forces keyword arguments.\u001b[39m\u001b[38;5;124m\"\u001b[39m \u001b[38;5;241m%\u001b[39m func\u001b[38;5;241m.\u001b[39m\u001b[38;5;18m__name__\u001b[39m)\n\u001b[1;32m    138\u001b[0m \u001b[38;5;28mself\u001b[39m\u001b[38;5;241m.\u001b[39m_input_kwargs \u001b[38;5;241m=\u001b[39m kwargs\n\u001b[0;32m--> 139\u001b[0m \u001b[38;5;28;01mreturn\u001b[39;00m \u001b[43mfunc\u001b[49m\u001b[43m(\u001b[49m\u001b[38;5;28;43mself\u001b[39;49m\u001b[43m,\u001b[49m\u001b[43m \u001b[49m\u001b[38;5;241;43m*\u001b[39;49m\u001b[38;5;241;43m*\u001b[39;49m\u001b[43mkwargs\u001b[49m\u001b[43m)\u001b[49m\n",
      "File \u001b[0;32m/opt/conda/lib/python3.11/site-packages/pyspark_encoders/_catboost.py:51\u001b[0m, in \u001b[0;36mCatboostEncoder.__init__\u001b[0;34m(self, inputCol, outputCol, targetCol, a, sigma)\u001b[0m\n\u001b[1;32m     49\u001b[0m \u001b[38;5;28mself\u001b[39m\u001b[38;5;241m.\u001b[39m_setDefault(targetCol\u001b[38;5;241m=\u001b[39m\u001b[38;5;28;01mNone\u001b[39;00m)\n\u001b[1;32m     50\u001b[0m kwargs \u001b[38;5;241m=\u001b[39m \u001b[38;5;28mself\u001b[39m\u001b[38;5;241m.\u001b[39m_input_kwargs\n\u001b[0;32m---> 51\u001b[0m \u001b[38;5;28;43mself\u001b[39;49m\u001b[38;5;241;43m.\u001b[39;49m\u001b[43msetParams\u001b[49m\u001b[43m(\u001b[49m\u001b[38;5;241;43m*\u001b[39;49m\u001b[38;5;241;43m*\u001b[39;49m\u001b[43mkwargs\u001b[49m\u001b[43m)\u001b[49m\n",
      "File \u001b[0;32m/usr/local/spark/python/pyspark/__init__.py:139\u001b[0m, in \u001b[0;36mkeyword_only.<locals>.wrapper\u001b[0;34m(self, *args, **kwargs)\u001b[0m\n\u001b[1;32m    137\u001b[0m     \u001b[38;5;28;01mraise\u001b[39;00m \u001b[38;5;167;01mTypeError\u001b[39;00m(\u001b[38;5;124m\"\u001b[39m\u001b[38;5;124mMethod \u001b[39m\u001b[38;5;132;01m%s\u001b[39;00m\u001b[38;5;124m forces keyword arguments.\u001b[39m\u001b[38;5;124m\"\u001b[39m \u001b[38;5;241m%\u001b[39m func\u001b[38;5;241m.\u001b[39m\u001b[38;5;18m__name__\u001b[39m)\n\u001b[1;32m    138\u001b[0m \u001b[38;5;28mself\u001b[39m\u001b[38;5;241m.\u001b[39m_input_kwargs \u001b[38;5;241m=\u001b[39m kwargs\n\u001b[0;32m--> 139\u001b[0m \u001b[38;5;28;01mreturn\u001b[39;00m \u001b[43mfunc\u001b[49m\u001b[43m(\u001b[49m\u001b[38;5;28;43mself\u001b[39;49m\u001b[43m,\u001b[49m\u001b[43m \u001b[49m\u001b[38;5;241;43m*\u001b[39;49m\u001b[38;5;241;43m*\u001b[39;49m\u001b[43mkwargs\u001b[49m\u001b[43m)\u001b[49m\n",
      "File \u001b[0;32m/opt/conda/lib/python3.11/site-packages/pyspark_encoders/_catboost.py:56\u001b[0m, in \u001b[0;36mCatboostEncoder.setParams\u001b[0;34m(self, inputCol, outputCol, targetCol, a, sigma)\u001b[0m\n\u001b[1;32m     53\u001b[0m \u001b[38;5;129m@keyword_only\u001b[39m\n\u001b[1;32m     54\u001b[0m \u001b[38;5;28;01mdef\u001b[39;00m \u001b[38;5;21msetParams\u001b[39m(\u001b[38;5;28mself\u001b[39m, inputCol\u001b[38;5;241m=\u001b[39m\u001b[38;5;28;01mNone\u001b[39;00m, outputCol\u001b[38;5;241m=\u001b[39m\u001b[38;5;28;01mNone\u001b[39;00m, targetCol\u001b[38;5;241m=\u001b[39m\u001b[38;5;28;01mNone\u001b[39;00m, a\u001b[38;5;241m=\u001b[39m\u001b[38;5;241m1\u001b[39m, sigma\u001b[38;5;241m=\u001b[39m\u001b[38;5;28;01mNone\u001b[39;00m):\n\u001b[1;32m     55\u001b[0m     kwargs \u001b[38;5;241m=\u001b[39m \u001b[38;5;28mself\u001b[39m\u001b[38;5;241m.\u001b[39m_input_kwargs\n\u001b[0;32m---> 56\u001b[0m     \u001b[38;5;28;01mreturn\u001b[39;00m \u001b[38;5;28;43mself\u001b[39;49m\u001b[38;5;241;43m.\u001b[39;49m\u001b[43m_set\u001b[49m\u001b[43m(\u001b[49m\u001b[38;5;241;43m*\u001b[39;49m\u001b[38;5;241;43m*\u001b[39;49m\u001b[43mkwargs\u001b[49m\u001b[43m)\u001b[49m\n",
      "File \u001b[0;32m/usr/local/spark/python/pyspark/ml/param/__init__.py:503\u001b[0m, in \u001b[0;36mParams._set\u001b[0;34m(self, **kwargs)\u001b[0m\n\u001b[1;32m    501\u001b[0m \u001b[38;5;28;01mif\u001b[39;00m value \u001b[38;5;129;01mis\u001b[39;00m \u001b[38;5;129;01mnot\u001b[39;00m \u001b[38;5;28;01mNone\u001b[39;00m:\n\u001b[1;32m    502\u001b[0m     \u001b[38;5;28;01mtry\u001b[39;00m:\n\u001b[0;32m--> 503\u001b[0m         value \u001b[38;5;241m=\u001b[39m \u001b[43mp\u001b[49m\u001b[38;5;241;43m.\u001b[39;49m\u001b[43mtypeConverter\u001b[49m(value)\n\u001b[1;32m    504\u001b[0m     \u001b[38;5;28;01mexcept\u001b[39;00m \u001b[38;5;167;01mTypeError\u001b[39;00m \u001b[38;5;28;01mas\u001b[39;00m e:\n\u001b[1;32m    505\u001b[0m         \u001b[38;5;28;01mraise\u001b[39;00m \u001b[38;5;167;01mTypeError\u001b[39;00m(\u001b[38;5;124m'\u001b[39m\u001b[38;5;124mInvalid param value given for param \u001b[39m\u001b[38;5;124m\"\u001b[39m\u001b[38;5;132;01m%s\u001b[39;00m\u001b[38;5;124m\"\u001b[39m\u001b[38;5;124m. \u001b[39m\u001b[38;5;132;01m%s\u001b[39;00m\u001b[38;5;124m'\u001b[39m \u001b[38;5;241m%\u001b[39m (p\u001b[38;5;241m.\u001b[39mname, e))\n",
      "\u001b[0;31mAttributeError\u001b[0m: 'int' object has no attribute 'typeConverter'"
     ]
    },
    {
     "name": "stderr",
     "output_type": "stream",
     "text": [
      "----------------------------------------\n",
      "Exception occurred during processing of request from ('127.0.0.1', 48114)\n",
      "Traceback (most recent call last):\n",
      "  File \"/opt/conda/lib/python3.11/socketserver.py\", line 317, in _handle_request_noblock\n",
      "    self.process_request(request, client_address)\n",
      "  File \"/opt/conda/lib/python3.11/socketserver.py\", line 348, in process_request\n",
      "    self.finish_request(request, client_address)\n",
      "  File \"/opt/conda/lib/python3.11/socketserver.py\", line 361, in finish_request\n",
      "    self.RequestHandlerClass(request, client_address, self)\n",
      "  File \"/opt/conda/lib/python3.11/socketserver.py\", line 755, in __init__\n",
      "    self.handle()\n",
      "  File \"/usr/local/spark/python/pyspark/accumulators.py\", line 295, in handle\n",
      "    poll(accum_updates)\n",
      "  File \"/usr/local/spark/python/pyspark/accumulators.py\", line 267, in poll\n",
      "    if self.rfile in r and func():\n",
      "                           ^^^^^^\n",
      "  File \"/usr/local/spark/python/pyspark/accumulators.py\", line 271, in accum_updates\n",
      "    num_updates = read_int(self.rfile)\n",
      "                  ^^^^^^^^^^^^^^^^^^^^\n",
      "  File \"/usr/local/spark/python/pyspark/serializers.py\", line 596, in read_int\n",
      "    raise EOFError\n",
      "EOFError\n",
      "----------------------------------------\n"
     ]
    }
   ],
   "source": [
    "\n",
    "from pyspark_encoders import CatboostEncoder\n",
    "\n",
    "values = [(\"A\", 1), (\"A\", 2), (\"B\", 6), (\"B\", 4), (\"A\", 3), (\"B\", 5)]\n",
    "\n",
    "df = spark.createDataFrame(values, [\"catColumn\", \"targetColumn\"])\n",
    "df.show()\n",
    "\n",
    "encoder = CatboostEncoder(\n",
    "    inputCol=\"catColumn\",\n",
    "    outputCol=\"encCatColumn\",\n",
    "    targetCol=\"targetColumn\",\n",
    "    a=1\n",
    ")\n",
    "\n",
    "encoder_model = encoder.fit(df)\n",
    "\n",
    "transf_df = encoder_model.transform(df)\n",
    "\n",
    "transf_df.show()"
   ]
  },
  {
   "cell_type": "code",
   "execution_count": null,
   "id": "c4ed4886-185e-426a-af5f-369caf03774e",
   "metadata": {},
   "outputs": [],
   "source": []
  },
  {
   "cell_type": "code",
   "execution_count": null,
   "id": "1834ffe8-1189-4792-b5dc-db06e713a4f3",
   "metadata": {},
   "outputs": [],
   "source": []
  },
  {
   "cell_type": "code",
   "execution_count": null,
   "id": "a224b088-47ec-46bb-a868-aee712a8f5b2",
   "metadata": {},
   "outputs": [],
   "source": []
  },
  {
   "cell_type": "code",
   "execution_count": null,
   "id": "cfea059f-65bf-4cd1-8fe9-84ea2ae7a6fb",
   "metadata": {},
   "outputs": [],
   "source": []
  },
  {
   "cell_type": "code",
   "execution_count": 10,
   "id": "3b075d86-5beb-4f7e-98b5-68c67d0eb16f",
   "metadata": {},
   "outputs": [
    {
     "name": "stdout",
     "output_type": "stream",
     "text": [
      "+---------+------------+\n",
      "|catColumn|targetColumn|\n",
      "+---------+------------+\n",
      "|     NULL|           1|\n",
      "|        A|           2|\n",
      "|        B|           6|\n",
      "|        B|           4|\n",
      "|        A|           3|\n",
      "|        B|           5|\n",
      "+---------+------------+\n",
      "\n",
      "+---------+------------+------------+\n",
      "|catColumn|targetColumn|encCatColumn|\n",
      "+---------+------------+------------+\n",
      "|     NULL|           1|        NULL|\n",
      "|        A|           2|         2.5|\n",
      "|        B|           6|         5.0|\n",
      "|        B|           4|         5.0|\n",
      "|        A|           3|         2.5|\n",
      "|        B|           5|         5.0|\n",
      "+---------+------------+------------+\n",
      "\n"
     ]
    }
   ],
   "source": [
    "values = [(None, 1), (\"A\", 2), (\"B\", 6), (\"B\", 4), (\"A\", 3), (\"B\", 5)]\n",
    "\n",
    "df = spark.createDataFrame(values, [\"catColumn\", \"targetColumn\"])\n",
    "df.show()\n",
    "\n",
    "encoder = TargetEncoder(\n",
    "    inputCol=\"catColumn\",\n",
    "    outputCol=\"encCatColumn\",\n",
    "    targetCol=\"targetColumn\",\n",
    "    strategy=\"mean\"\n",
    ")\n",
    "\n",
    "encoder_model = encoder.fit(df)\n",
    "\n",
    "transf_df = encoder_model.transform(df)\n",
    "\n",
    "transf_df.show()"
   ]
  },
  {
   "cell_type": "code",
   "execution_count": 11,
   "id": "abdddac4-dd30-4904-ad99-c01fe10cba9f",
   "metadata": {},
   "outputs": [
    {
     "name": "stdout",
     "output_type": "stream",
     "text": [
      "Collecting category_encoders\n",
      "  Downloading category_encoders-2.6.3-py2.py3-none-any.whl.metadata (8.0 kB)\n",
      "Requirement already satisfied: numpy>=1.14.0 in /opt/conda/lib/python3.11/site-packages (from category_encoders) (1.24.4)\n",
      "Requirement already satisfied: scikit-learn>=0.20.0 in /opt/conda/lib/python3.11/site-packages (from category_encoders) (1.3.1)\n",
      "Requirement already satisfied: scipy>=1.0.0 in /opt/conda/lib/python3.11/site-packages (from category_encoders) (1.11.3)\n",
      "Requirement already satisfied: statsmodels>=0.9.0 in /opt/conda/lib/python3.11/site-packages (from category_encoders) (0.14.0)\n",
      "Requirement already satisfied: pandas>=1.0.5 in /opt/conda/lib/python3.11/site-packages (from category_encoders) (2.0.3)\n",
      "Requirement already satisfied: patsy>=0.5.1 in /opt/conda/lib/python3.11/site-packages (from category_encoders) (0.5.3)\n",
      "Requirement already satisfied: python-dateutil>=2.8.2 in /opt/conda/lib/python3.11/site-packages (from pandas>=1.0.5->category_encoders) (2.8.2)\n",
      "Requirement already satisfied: pytz>=2020.1 in /opt/conda/lib/python3.11/site-packages (from pandas>=1.0.5->category_encoders) (2023.3.post1)\n",
      "Requirement already satisfied: tzdata>=2022.1 in /opt/conda/lib/python3.11/site-packages (from pandas>=1.0.5->category_encoders) (2023.3)\n",
      "Requirement already satisfied: six in /opt/conda/lib/python3.11/site-packages (from patsy>=0.5.1->category_encoders) (1.16.0)\n",
      "Requirement already satisfied: joblib>=1.1.1 in /opt/conda/lib/python3.11/site-packages (from scikit-learn>=0.20.0->category_encoders) (1.3.2)\n",
      "Requirement already satisfied: threadpoolctl>=2.0.0 in /opt/conda/lib/python3.11/site-packages (from scikit-learn>=0.20.0->category_encoders) (3.2.0)\n",
      "Requirement already satisfied: packaging>=21.3 in /opt/conda/lib/python3.11/site-packages (from statsmodels>=0.9.0->category_encoders) (23.2)\n",
      "Downloading category_encoders-2.6.3-py2.py3-none-any.whl (81 kB)\n",
      "\u001b[2K   \u001b[90m━━━━━━━━━━━━━━━━━━━━━━━━━━━━━━━━━━━━━━━━\u001b[0m \u001b[32m81.9/81.9 kB\u001b[0m \u001b[31m1.0 MB/s\u001b[0m eta \u001b[36m0:00:00\u001b[0ma \u001b[36m0:00:01\u001b[0m\n",
      "\u001b[?25hInstalling collected packages: category_encoders\n",
      "Successfully installed category_encoders-2.6.3\n"
     ]
    }
   ],
   "source": [
    "!pip install category_encoders"
   ]
  },
  {
   "cell_type": "code",
   "execution_count": 15,
   "id": "8578168d-c47b-4133-9093-6bea80998e77",
   "metadata": {},
   "outputs": [
    {
     "name": "stderr",
     "output_type": "stream",
     "text": [
      "/opt/conda/lib/python3.11/site-packages/sklearn/datasets/_openml.py:1022: FutureWarning: The default value of `parser` will change from `'liac-arff'` to `'auto'` in 1.4. You can set `parser='auto'` to silence this warning. Therefore, an `ImportError` will be raised from 1.4 if the dataset is dense and pandas is not installed. Note that the pandas parser may return different data types. See the Notes Section in fetch_openml's API doc for details.\n",
      "  warn(\n"
     ]
    },
    {
     "name": "stdout",
     "output_type": "stream",
     "text": [
      "<class 'pandas.core.frame.DataFrame'>\n",
      "RangeIndex: 1460 entries, 0 to 1459\n",
      "Data columns (total 7 columns):\n",
      " #   Column       Non-Null Count  Dtype  \n",
      "---  ------       --------------  -----  \n",
      " 0   Id           1460 non-null   int64  \n",
      " 1   MSSubClass   1460 non-null   int64  \n",
      " 2   MSZoning     1460 non-null   object \n",
      " 3   LotFrontage  1201 non-null   float64\n",
      " 4   YearBuilt    1460 non-null   int64  \n",
      " 5   Heating      1460 non-null   float64\n",
      " 6   CentralAir   1460 non-null   float64\n",
      "dtypes: float64(3), int64(3), object(1)\n",
      "memory usage: 80.0+ KB\n",
      "None\n"
     ]
    }
   ],
   "source": [
    "from category_encoders import *\n",
    "import pandas as pd\n",
    "from sklearn.datasets import fetch_openml\n",
    "bunch = fetch_openml(name=\"house_prices\", as_frame=True)\n",
    "display_cols = [\"Id\", \"MSSubClass\", \"MSZoning\", \"LotFrontage\", \"YearBuilt\", \"Heating\", \"CentralAir\"]\n",
    "y = bunch.target\n",
    "X = pd.DataFrame(bunch.data, columns=bunch.feature_names)[display_cols]\n",
    "enc = CatBoostEncoder(cols=['CentralAir', 'Heating']).fit(X, y)\n",
    "numeric_dataset = enc.transform(X)\n",
    "print(numeric_dataset.info())"
   ]
  },
  {
   "cell_type": "code",
   "execution_count": 19,
   "id": "8e8b0d0c-9bdd-48ce-ac1d-e044adffcb74",
   "metadata": {},
   "outputs": [
    {
     "data": {
      "text/html": [
       "<div>\n",
       "<style scoped>\n",
       "    .dataframe tbody tr th:only-of-type {\n",
       "        vertical-align: middle;\n",
       "    }\n",
       "\n",
       "    .dataframe tbody tr th {\n",
       "        vertical-align: top;\n",
       "    }\n",
       "\n",
       "    .dataframe thead th {\n",
       "        text-align: right;\n",
       "    }\n",
       "</style>\n",
       "<table border=\"1\" class=\"dataframe\">\n",
       "  <thead>\n",
       "    <tr style=\"text-align: right;\">\n",
       "      <th></th>\n",
       "      <th>Id</th>\n",
       "      <th>MSSubClass</th>\n",
       "      <th>MSZoning</th>\n",
       "      <th>LotFrontage</th>\n",
       "      <th>YearBuilt</th>\n",
       "      <th>Heating</th>\n",
       "      <th>CentralAir</th>\n",
       "      <th>y</th>\n",
       "    </tr>\n",
       "  </thead>\n",
       "  <tbody>\n",
       "    <tr>\n",
       "      <th>0</th>\n",
       "      <td>1</td>\n",
       "      <td>60</td>\n",
       "      <td>RL</td>\n",
       "      <td>65.0</td>\n",
       "      <td>2003</td>\n",
       "      <td>GasA</td>\n",
       "      <td>Y</td>\n",
       "      <td>208500</td>\n",
       "    </tr>\n",
       "    <tr>\n",
       "      <th>1</th>\n",
       "      <td>2</td>\n",
       "      <td>20</td>\n",
       "      <td>RL</td>\n",
       "      <td>80.0</td>\n",
       "      <td>1976</td>\n",
       "      <td>GasA</td>\n",
       "      <td>Y</td>\n",
       "      <td>181500</td>\n",
       "    </tr>\n",
       "    <tr>\n",
       "      <th>2</th>\n",
       "      <td>3</td>\n",
       "      <td>60</td>\n",
       "      <td>RL</td>\n",
       "      <td>68.0</td>\n",
       "      <td>2001</td>\n",
       "      <td>GasA</td>\n",
       "      <td>Y</td>\n",
       "      <td>223500</td>\n",
       "    </tr>\n",
       "    <tr>\n",
       "      <th>3</th>\n",
       "      <td>4</td>\n",
       "      <td>70</td>\n",
       "      <td>RL</td>\n",
       "      <td>60.0</td>\n",
       "      <td>1915</td>\n",
       "      <td>GasA</td>\n",
       "      <td>Y</td>\n",
       "      <td>140000</td>\n",
       "    </tr>\n",
       "    <tr>\n",
       "      <th>4</th>\n",
       "      <td>5</td>\n",
       "      <td>60</td>\n",
       "      <td>RL</td>\n",
       "      <td>84.0</td>\n",
       "      <td>2000</td>\n",
       "      <td>GasA</td>\n",
       "      <td>Y</td>\n",
       "      <td>250000</td>\n",
       "    </tr>\n",
       "    <tr>\n",
       "      <th>...</th>\n",
       "      <td>...</td>\n",
       "      <td>...</td>\n",
       "      <td>...</td>\n",
       "      <td>...</td>\n",
       "      <td>...</td>\n",
       "      <td>...</td>\n",
       "      <td>...</td>\n",
       "      <td>...</td>\n",
       "    </tr>\n",
       "    <tr>\n",
       "      <th>1455</th>\n",
       "      <td>1456</td>\n",
       "      <td>60</td>\n",
       "      <td>RL</td>\n",
       "      <td>62.0</td>\n",
       "      <td>1999</td>\n",
       "      <td>GasA</td>\n",
       "      <td>Y</td>\n",
       "      <td>175000</td>\n",
       "    </tr>\n",
       "    <tr>\n",
       "      <th>1456</th>\n",
       "      <td>1457</td>\n",
       "      <td>20</td>\n",
       "      <td>RL</td>\n",
       "      <td>85.0</td>\n",
       "      <td>1978</td>\n",
       "      <td>GasA</td>\n",
       "      <td>Y</td>\n",
       "      <td>210000</td>\n",
       "    </tr>\n",
       "    <tr>\n",
       "      <th>1457</th>\n",
       "      <td>1458</td>\n",
       "      <td>70</td>\n",
       "      <td>RL</td>\n",
       "      <td>66.0</td>\n",
       "      <td>1941</td>\n",
       "      <td>GasA</td>\n",
       "      <td>Y</td>\n",
       "      <td>266500</td>\n",
       "    </tr>\n",
       "    <tr>\n",
       "      <th>1458</th>\n",
       "      <td>1459</td>\n",
       "      <td>20</td>\n",
       "      <td>RL</td>\n",
       "      <td>68.0</td>\n",
       "      <td>1950</td>\n",
       "      <td>GasA</td>\n",
       "      <td>Y</td>\n",
       "      <td>142125</td>\n",
       "    </tr>\n",
       "    <tr>\n",
       "      <th>1459</th>\n",
       "      <td>1460</td>\n",
       "      <td>20</td>\n",
       "      <td>RL</td>\n",
       "      <td>75.0</td>\n",
       "      <td>1965</td>\n",
       "      <td>GasA</td>\n",
       "      <td>Y</td>\n",
       "      <td>147500</td>\n",
       "    </tr>\n",
       "  </tbody>\n",
       "</table>\n",
       "<p>1460 rows × 8 columns</p>\n",
       "</div>"
      ],
      "text/plain": [
       "        Id  MSSubClass MSZoning  LotFrontage  YearBuilt Heating CentralAir  \\\n",
       "0        1          60       RL         65.0       2003    GasA          Y   \n",
       "1        2          20       RL         80.0       1976    GasA          Y   \n",
       "2        3          60       RL         68.0       2001    GasA          Y   \n",
       "3        4          70       RL         60.0       1915    GasA          Y   \n",
       "4        5          60       RL         84.0       2000    GasA          Y   \n",
       "...    ...         ...      ...          ...        ...     ...        ...   \n",
       "1455  1456          60       RL         62.0       1999    GasA          Y   \n",
       "1456  1457          20       RL         85.0       1978    GasA          Y   \n",
       "1457  1458          70       RL         66.0       1941    GasA          Y   \n",
       "1458  1459          20       RL         68.0       1950    GasA          Y   \n",
       "1459  1460          20       RL         75.0       1965    GasA          Y   \n",
       "\n",
       "           y  \n",
       "0     208500  \n",
       "1     181500  \n",
       "2     223500  \n",
       "3     140000  \n",
       "4     250000  \n",
       "...      ...  \n",
       "1455  175000  \n",
       "1456  210000  \n",
       "1457  266500  \n",
       "1458  142125  \n",
       "1459  147500  \n",
       "\n",
       "[1460 rows x 8 columns]"
      ]
     },
     "execution_count": 19,
     "metadata": {},
     "output_type": "execute_result"
    }
   ],
   "source": [
    "X.assign(y=y)"
   ]
  },
  {
   "cell_type": "code",
   "execution_count": 24,
   "id": "336bd1cb-f7f5-4cdf-b078-5bf46d22bd7b",
   "metadata": {},
   "outputs": [],
   "source": [
    "import numpy as np\n",
    "def _fit_column_map(series, y):\n",
    "    category = pd.Categorical(series)\n",
    "\n",
    "    categories = category.categories\n",
    "    codes = category.codes.copy()\n",
    "\n",
    "    codes[codes == -1] = len(categories)\n",
    "    categories = np.append(categories, np.nan)\n",
    "\n",
    "    return_map = pd.Series(dict(enumerate(categories)))\n",
    "\n",
    "    result = y.groupby(codes).agg(['sum', 'count'])\n",
    "    return result.rename(return_map)"
   ]
  },
  {
   "cell_type": "code",
   "execution_count": 72,
   "id": "c14c4488-92c3-487d-bb25-65da3b36c6ba",
   "metadata": {},
   "outputs": [],
   "source": [
    "a=1"
   ]
  },
  {
   "cell_type": "code",
   "execution_count": 59,
   "id": "98f3ad2a-5174-4bc5-89ca-060c134fa92d",
   "metadata": {},
   "outputs": [
    {
     "data": {
      "text/plain": [
       "{'Heating':              sum  count\n",
       " Floor      72500      1\n",
       " GasA   259926267   1428\n",
       " GasW     2999379     18\n",
       " Grav      526900      7\n",
       " OthW      251500      2\n",
       " Wall      368400      4,\n",
       " 'CentralAir':          sum  count\n",
       " N   10000087     95\n",
       " Y  254144859   1365}"
      ]
     },
     "execution_count": 59,
     "metadata": {},
     "output_type": "execute_result"
    }
   ],
   "source": [
    "cols = [\"Heating\", \"CentralAir\"]\n",
    "\n",
    "mapping = {col: _fit_column_map(X[col], y) for col in cols}\n",
    "\n",
    "mapping"
   ]
  },
  {
   "cell_type": "code",
   "execution_count": 66,
   "id": "c1dd15b1-7d4f-4151-8bd0-4696273048f5",
   "metadata": {},
   "outputs": [
    {
     "data": {
      "text/plain": [
       "180921.19589041095"
      ]
     },
     "execution_count": 66,
     "metadata": {},
     "output_type": "execute_result"
    }
   ],
   "source": [
    "_mean = y.mean()\n",
    "\n",
    "_mean"
   ]
  },
  {
   "cell_type": "code",
   "execution_count": 58,
   "id": "b05ebf24-3862-46e4-baf6-fa4d7b0f3ae7",
   "metadata": {},
   "outputs": [
    {
     "data": {
      "text/html": [
       "<div>\n",
       "<style scoped>\n",
       "    .dataframe tbody tr th:only-of-type {\n",
       "        vertical-align: middle;\n",
       "    }\n",
       "\n",
       "    .dataframe tbody tr th {\n",
       "        vertical-align: top;\n",
       "    }\n",
       "\n",
       "    .dataframe thead th {\n",
       "        text-align: right;\n",
       "    }\n",
       "</style>\n",
       "<table border=\"1\" class=\"dataframe\">\n",
       "  <thead>\n",
       "    <tr style=\"text-align: right;\">\n",
       "      <th></th>\n",
       "      <th>Id</th>\n",
       "      <th>MSSubClass</th>\n",
       "      <th>MSZoning</th>\n",
       "      <th>LotFrontage</th>\n",
       "      <th>YearBuilt</th>\n",
       "      <th>Heating</th>\n",
       "      <th>CentralAir</th>\n",
       "    </tr>\n",
       "  </thead>\n",
       "  <tbody>\n",
       "    <tr>\n",
       "      <th>0</th>\n",
       "      <td>1</td>\n",
       "      <td>60</td>\n",
       "      <td>RL</td>\n",
       "      <td>65.0</td>\n",
       "      <td>2003</td>\n",
       "      <td>GasA</td>\n",
       "      <td>Y</td>\n",
       "    </tr>\n",
       "    <tr>\n",
       "      <th>1</th>\n",
       "      <td>2</td>\n",
       "      <td>20</td>\n",
       "      <td>RL</td>\n",
       "      <td>80.0</td>\n",
       "      <td>1976</td>\n",
       "      <td>GasA</td>\n",
       "      <td>Y</td>\n",
       "    </tr>\n",
       "    <tr>\n",
       "      <th>2</th>\n",
       "      <td>3</td>\n",
       "      <td>60</td>\n",
       "      <td>RL</td>\n",
       "      <td>68.0</td>\n",
       "      <td>2001</td>\n",
       "      <td>GasA</td>\n",
       "      <td>Y</td>\n",
       "    </tr>\n",
       "    <tr>\n",
       "      <th>3</th>\n",
       "      <td>4</td>\n",
       "      <td>70</td>\n",
       "      <td>RL</td>\n",
       "      <td>60.0</td>\n",
       "      <td>1915</td>\n",
       "      <td>GasA</td>\n",
       "      <td>Y</td>\n",
       "    </tr>\n",
       "    <tr>\n",
       "      <th>4</th>\n",
       "      <td>5</td>\n",
       "      <td>60</td>\n",
       "      <td>RL</td>\n",
       "      <td>84.0</td>\n",
       "      <td>2000</td>\n",
       "      <td>GasA</td>\n",
       "      <td>Y</td>\n",
       "    </tr>\n",
       "    <tr>\n",
       "      <th>...</th>\n",
       "      <td>...</td>\n",
       "      <td>...</td>\n",
       "      <td>...</td>\n",
       "      <td>...</td>\n",
       "      <td>...</td>\n",
       "      <td>...</td>\n",
       "      <td>...</td>\n",
       "    </tr>\n",
       "    <tr>\n",
       "      <th>1456</th>\n",
       "      <td>1457</td>\n",
       "      <td>20</td>\n",
       "      <td>RL</td>\n",
       "      <td>85.0</td>\n",
       "      <td>1978</td>\n",
       "      <td>GasA</td>\n",
       "      <td>Y</td>\n",
       "    </tr>\n",
       "    <tr>\n",
       "      <th>1457</th>\n",
       "      <td>1458</td>\n",
       "      <td>70</td>\n",
       "      <td>RL</td>\n",
       "      <td>66.0</td>\n",
       "      <td>1941</td>\n",
       "      <td>GasA</td>\n",
       "      <td>Y</td>\n",
       "    </tr>\n",
       "    <tr>\n",
       "      <th>1458</th>\n",
       "      <td>1459</td>\n",
       "      <td>20</td>\n",
       "      <td>RL</td>\n",
       "      <td>68.0</td>\n",
       "      <td>1950</td>\n",
       "      <td>GasA</td>\n",
       "      <td>Y</td>\n",
       "    </tr>\n",
       "    <tr>\n",
       "      <th>1459</th>\n",
       "      <td>1460</td>\n",
       "      <td>20</td>\n",
       "      <td>RL</td>\n",
       "      <td>75.0</td>\n",
       "      <td>1965</td>\n",
       "      <td>GasA</td>\n",
       "      <td>Y</td>\n",
       "    </tr>\n",
       "    <tr>\n",
       "      <th>0</th>\n",
       "      <td>1461</td>\n",
       "      <td>30</td>\n",
       "      <td>RL</td>\n",
       "      <td>71.0</td>\n",
       "      <td>1978</td>\n",
       "      <td>GasB</td>\n",
       "      <td>DN</td>\n",
       "    </tr>\n",
       "  </tbody>\n",
       "</table>\n",
       "<p>1461 rows × 7 columns</p>\n",
       "</div>"
      ],
      "text/plain": [
       "        Id  MSSubClass MSZoning  LotFrontage  YearBuilt Heating CentralAir\n",
       "0        1          60       RL         65.0       2003    GasA          Y\n",
       "1        2          20       RL         80.0       1976    GasA          Y\n",
       "2        3          60       RL         68.0       2001    GasA          Y\n",
       "3        4          70       RL         60.0       1915    GasA          Y\n",
       "4        5          60       RL         84.0       2000    GasA          Y\n",
       "...    ...         ...      ...          ...        ...     ...        ...\n",
       "1456  1457          20       RL         85.0       1978    GasA          Y\n",
       "1457  1458          70       RL         66.0       1941    GasA          Y\n",
       "1458  1459          20       RL         68.0       1950    GasA          Y\n",
       "1459  1460          20       RL         75.0       1965    GasA          Y\n",
       "0     1461          30       RL         71.0       1978    GasB         DN\n",
       "\n",
       "[1461 rows x 7 columns]"
      ]
     },
     "execution_count": 58,
     "metadata": {},
     "output_type": "execute_result"
    }
   ],
   "source": [
    "X_pred = pd.concat([X, pd.DataFrame([[1461, 30, \"RL\", 71., 1978, \"GasB\", \"DN\"]], columns=X.columns)])\n",
    "\n",
    "X_pred"
   ]
  },
  {
   "cell_type": "code",
   "execution_count": 60,
   "id": "6efc48f2-cd00-465b-9715-37bb77816111",
   "metadata": {},
   "outputs": [],
   "source": [
    "temp = [(col,colmap) for col, colmap in mapping.items()]"
   ]
  },
  {
   "cell_type": "code",
   "execution_count": 61,
   "id": "4035eb8a-ee53-4502-a664-55b46b06d474",
   "metadata": {},
   "outputs": [
    {
     "name": "stdout",
     "output_type": "stream",
     "text": [
      "Heating\n",
      "             sum  count\n",
      "Floor      72500      1\n",
      "GasA   259926267   1428\n",
      "GasW     2999379     18\n",
      "Grav      526900      7\n",
      "OthW      251500      2\n",
      "Wall      368400      4\n"
     ]
    }
   ],
   "source": [
    "col,colmap = temp[0]\n",
    "print(col)\n",
    "print(colmap)"
   ]
  },
  {
   "cell_type": "code",
   "execution_count": 48,
   "id": "c6a9e3a5-019b-4013-a12b-f99db988c27c",
   "metadata": {},
   "outputs": [
    {
     "data": {
      "text/plain": [
       "Floor    False\n",
       "GasA      True\n",
       "GasW      True\n",
       "Grav      True\n",
       "OthW      True\n",
       "Wall      True\n",
       "Name: count, dtype: bool"
      ]
     },
     "execution_count": 48,
     "metadata": {},
     "output_type": "execute_result"
    }
   ],
   "source": [
    "level_notunique = colmap['count'] > 1\n",
    "level_notunique"
   ]
  },
  {
   "cell_type": "code",
   "execution_count": 49,
   "id": "fdcdce32-bef6-45cd-b3fe-e0b7ee7ba6b1",
   "metadata": {},
   "outputs": [
    {
     "data": {
      "text/plain": [
       "Index(['Floor', 'GasA', 'GasW', 'Grav', 'OthW', 'Wall'], dtype='object')"
      ]
     },
     "execution_count": 49,
     "metadata": {},
     "output_type": "execute_result"
    }
   ],
   "source": [
    "unique_train = colmap.index\n",
    "unique_train"
   ]
  },
  {
   "cell_type": "code",
   "execution_count": 62,
   "id": "0dac78f0-79fb-4fd2-8a2b-8787b05f0af3",
   "metadata": {},
   "outputs": [
    {
     "data": {
      "text/plain": [
       "0    GasB\n",
       "dtype: object"
      ]
     },
     "execution_count": 62,
     "metadata": {},
     "output_type": "execute_result"
    }
   ],
   "source": [
    "unseen_values = pd.Series([x for x in X_pred[col].unique() if x not in unique_train], dtype=unique_train.dtype)\n",
    "unseen_values"
   ]
  },
  {
   "cell_type": "code",
   "execution_count": 63,
   "id": "a6df8bfe-dd73-49b1-a8fd-19b7f39c5879",
   "metadata": {},
   "outputs": [
    {
     "data": {
      "text/plain": [
       "0       False\n",
       "1       False\n",
       "2       False\n",
       "3       False\n",
       "4       False\n",
       "        ...  \n",
       "1456    False\n",
       "1457    False\n",
       "1458    False\n",
       "1459    False\n",
       "0       False\n",
       "Name: Heating, Length: 1461, dtype: bool"
      ]
     },
     "execution_count": 63,
     "metadata": {},
     "output_type": "execute_result"
    }
   ],
   "source": [
    "is_nan = X_pred[col].isna()\n",
    "is_nan"
   ]
  },
  {
   "cell_type": "code",
   "execution_count": 64,
   "id": "2b50ea49-207d-4e53-af1f-54498f8511c0",
   "metadata": {},
   "outputs": [
    {
     "data": {
      "text/plain": [
       "0       False\n",
       "1       False\n",
       "2       False\n",
       "3       False\n",
       "4       False\n",
       "        ...  \n",
       "1456    False\n",
       "1457    False\n",
       "1458    False\n",
       "1459    False\n",
       "0        True\n",
       "Name: Heating, Length: 1461, dtype: bool"
      ]
     },
     "execution_count": 64,
     "metadata": {},
     "output_type": "execute_result"
    }
   ],
   "source": [
    "is_unknown_value = X_pred[col].isin(unseen_values.dropna().astype(object))\n",
    "is_unknown_value"
   ]
  },
  {
   "cell_type": "code",
   "execution_count": 77,
   "id": "8e9170e7-06bc-437e-96ec-5da36384a376",
   "metadata": {},
   "outputs": [
    {
     "data": {
      "text/plain": [
       "Floor    126711.097945\n",
       "GasA     182020.426309\n",
       "GasW     167384.273468\n",
       "Grav      88477.774486\n",
       "OthW     144140.731963\n",
       "Wall     109864.439178\n",
       "dtype: float64"
      ]
     },
     "execution_count": 77,
     "metadata": {},
     "output_type": "execute_result"
    }
   ],
   "source": [
    "w = (colmap['sum']+ _mean + a) / (colmap['count']+a)\n",
    "\n",
    "w"
   ]
  },
  {
   "cell_type": "code",
   "execution_count": 81,
   "id": "85c04bee-ce0e-47f8-83af-0b23151d8ec9",
   "metadata": {},
   "outputs": [
    {
     "data": {
      "text/plain": [
       "Floor    180921.195890\n",
       "GasA     182020.426309\n",
       "GasW     167384.273468\n",
       "Grav      88477.774486\n",
       "OthW     144140.731963\n",
       "Wall     109864.439178\n",
       "dtype: float64"
      ]
     },
     "execution_count": 81,
     "metadata": {},
     "output_type": "execute_result"
    }
   ],
   "source": [
    "level_means = w.where(level_notunique, _mean)\n",
    "\n",
    "level_means"
   ]
  },
  {
   "cell_type": "code",
   "execution_count": 82,
   "id": "408061ef-6865-4003-948f-eb7fd138a2c4",
   "metadata": {},
   "outputs": [
    {
     "data": {
      "text/plain": [
       "0       182020.426309\n",
       "1       182020.426309\n",
       "2       182020.426309\n",
       "3       182020.426309\n",
       "4       182020.426309\n",
       "            ...      \n",
       "1456    182020.426309\n",
       "1457    182020.426309\n",
       "1458    182020.426309\n",
       "1459    182020.426309\n",
       "0                 NaN\n",
       "Name: Heating, Length: 1461, dtype: float64"
      ]
     },
     "execution_count": 82,
     "metadata": {},
     "output_type": "execute_result"
    }
   ],
   "source": [
    "X_pred[col].map(level_means)"
   ]
  },
  {
   "cell_type": "code",
   "execution_count": null,
   "id": "df987cd6-90bd-4942-ade4-3c8ffcfbd5d4",
   "metadata": {},
   "outputs": [],
   "source": []
  }
 ],
 "metadata": {
  "kernelspec": {
   "display_name": "Python 3 (ipykernel)",
   "language": "python",
   "name": "python3"
  },
  "language_info": {
   "codemirror_mode": {
    "name": "ipython",
    "version": 3
   },
   "file_extension": ".py",
   "mimetype": "text/x-python",
   "name": "python",
   "nbconvert_exporter": "python",
   "pygments_lexer": "ipython3",
   "version": "3.11.6"
  }
 },
 "nbformat": 4,
 "nbformat_minor": 5
}
